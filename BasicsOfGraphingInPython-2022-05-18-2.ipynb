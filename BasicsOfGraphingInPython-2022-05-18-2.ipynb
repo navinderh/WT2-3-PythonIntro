{
 "cells": [
  {
   "cell_type": "markdown",
   "id": "c2867be3",
   "metadata": {},
   "source": [
    "## Basics of Graphing In Python"
   ]
  },
  {
   "cell_type": "markdown",
   "id": "e0ab71f6",
   "metadata": {},
   "source": [
    "### Python Libraries\n",
    "- Matplotlib - creates visualizations\n",
    "- pandas - data analysis and manipulation tool\n",
    "- NumPy - provides mathematical functions on arrays"
   ]
  },
  {
   "cell_type": "markdown",
   "id": "d6a8248e",
   "metadata": {},
   "source": [
    "## Importing Python Libraries:\n",
    "\n",
    "####  import [library] as [insert an alias here]\n",
    "\n",
    "An alias is how you will refer to the library from here on out when using a module from said library. \n",
    "\n",
    "You could use any alias - but to make it easy for anyone else who might have to decipher your code, keep the alias predictable. "
   ]
  },
  {
   "cell_type": "code",
   "execution_count": 1,
   "id": "ac375991",
   "metadata": {},
   "outputs": [],
   "source": [
    "import matplotlib.pyplot as plt\n",
    "import pandas as pd\n",
    "import numpy as np"
   ]
  },
  {
   "cell_type": "markdown",
   "id": "65affdbc",
   "metadata": {},
   "source": [
    "### Reading a File into a DataFrame\n",
    "\n",
    "- Naming variables within python code: use either camel case or snake case.\n",
    "    - Unformatted variable name: CRPPD Data\n",
    "    - Snake case: CRPPD_Data\n",
    "    - Camel case: crppdData\n",
    "\n",
    "- Two common modules used for this: \n",
    "    - pd.read_excel()\n",
    "    - pd.read.csv()"
   ]
  },
  {
   "cell_type": "code",
   "execution_count": 2,
   "id": "ad2f1586",
   "metadata": {},
   "outputs": [],
   "source": [
    "crppdData = pd.read_excel('CRPPD1000.xlsx')"
   ]
  },
  {
   "cell_type": "markdown",
   "id": "8fb29df3",
   "metadata": {},
   "source": [
    "### What if I refer to the library by name?"
   ]
  },
  {
   "cell_type": "code",
   "execution_count": 3,
   "id": "5ce637f8",
   "metadata": {
    "scrolled": true
   },
   "outputs": [
    {
     "ename": "NameError",
     "evalue": "name 'pandas' is not defined",
     "output_type": "error",
     "traceback": [
      "\u001b[0;31m---------------------------------------------------------------------------\u001b[0m",
      "\u001b[0;31mNameError\u001b[0m                                 Traceback (most recent call last)",
      "\u001b[0;32m/tmp/ipykernel_163/1174361886.py\u001b[0m in \u001b[0;36m<module>\u001b[0;34m\u001b[0m\n\u001b[0;32m----> 1\u001b[0;31m \u001b[0mcrppdData\u001b[0m \u001b[0;34m=\u001b[0m \u001b[0mpandas\u001b[0m\u001b[0;34m.\u001b[0m\u001b[0mread_excel\u001b[0m\u001b[0;34m(\u001b[0m\u001b[0;34m'CRPPD100.xlsx'\u001b[0m\u001b[0;34m)\u001b[0m\u001b[0;34m\u001b[0m\u001b[0;34m\u001b[0m\u001b[0m\n\u001b[0m",
      "\u001b[0;31mNameError\u001b[0m: name 'pandas' is not defined"
     ]
    }
   ],
   "source": [
    "crppdData = pandas.read_excel('CRPPD100.xlsx')"
   ]
  },
  {
   "cell_type": "markdown",
   "id": "707e9032",
   "metadata": {},
   "source": [
    "### Checking the list of the attributes and methods of any object"
   ]
  },
  {
   "cell_type": "code",
   "execution_count": 4,
   "id": "60354ebb",
   "metadata": {},
   "outputs": [
    {
     "name": "stdout",
     "output_type": "stream",
     "text": [
      "['In', 'Out', '_', '__', '___', '__builtin__', '__builtins__', '__doc__', '__loader__', '__name__', '__package__', '__spec__', '_dh', '_i', '_i1', '_i2', '_i3', '_i4', '_ih', '_ii', '_iii', '_oh', 'crppdData', 'exit', 'get_ipython', 'np', 'pd', 'plt', 'quit']\n"
     ]
    }
   ],
   "source": [
    "print(dir())"
   ]
  },
  {
   "cell_type": "markdown",
   "id": "721e7010",
   "metadata": {},
   "source": [
    "### Checking the DataFrame\n",
    "To see if the data loaded is the data you're hoping to use"
   ]
  },
  {
   "cell_type": "code",
   "execution_count": 5,
   "id": "68467773",
   "metadata": {
    "scrolled": true
   },
   "outputs": [
    {
     "data": {
      "text/html": [
       "<div>\n",
       "<style scoped>\n",
       "    .dataframe tbody tr th:only-of-type {\n",
       "        vertical-align: middle;\n",
       "    }\n",
       "\n",
       "    .dataframe tbody tr th {\n",
       "        vertical-align: top;\n",
       "    }\n",
       "\n",
       "    .dataframe thead th {\n",
       "        text-align: right;\n",
       "    }\n",
       "</style>\n",
       "<table border=\"1\" class=\"dataframe\">\n",
       "  <thead>\n",
       "    <tr style=\"text-align: right;\">\n",
       "      <th></th>\n",
       "      <th>0Phys Props LabID</th>\n",
       "      <th>Sample Name *</th>\n",
       "      <th>Alt Sample Name</th>\n",
       "      <th>SMS Curation Number</th>\n",
       "      <th>Previous Mira RPDS ID</th>\n",
       "      <th>StationName/Well ID/BoreholeName *</th>\n",
       "      <th>Location area</th>\n",
       "      <th>Location Description</th>\n",
       "      <th>Mapped By *</th>\n",
       "      <th>Date Mapped (yyyy/mm/dd) *</th>\n",
       "      <th>...</th>\n",
       "      <th>KN Sample Lab</th>\n",
       "      <th>KN Sample Quality</th>\n",
       "      <th>RES Sample Value [Ohm.m]</th>\n",
       "      <th>RES Sample Methodology</th>\n",
       "      <th>RES Sample Lab</th>\n",
       "      <th>RES Sample Quality</th>\n",
       "      <th>CHG Sample Value [ms]</th>\n",
       "      <th>CHG Sample Methodology</th>\n",
       "      <th>CHG Sample Lab</th>\n",
       "      <th>CHG Sample Quality</th>\n",
       "    </tr>\n",
       "  </thead>\n",
       "  <tbody>\n",
       "    <tr>\n",
       "      <th>0</th>\n",
       "      <td>AB00001</td>\n",
       "      <td>PM-DKK01</td>\n",
       "      <td></td>\n",
       "      <td>NaN</td>\n",
       "      <td>RKS-PM-DKK01</td>\n",
       "      <td>PM-DKK01</td>\n",
       "      <td>Southern Rockies</td>\n",
       "      <td>NaN</td>\n",
       "      <td>Enkin RJ</td>\n",
       "      <td>1996</td>\n",
       "      <td>...</td>\n",
       "      <td>GSC</td>\n",
       "      <td>A</td>\n",
       "      <td>5619.194715</td>\n",
       "      <td>Solartron 1260 Impedance Spectrometer</td>\n",
       "      <td>GSC</td>\n",
       "      <td>A</td>\n",
       "      <td>NaN</td>\n",
       "      <td>NaN</td>\n",
       "      <td>NaN</td>\n",
       "      <td>NaN</td>\n",
       "    </tr>\n",
       "    <tr>\n",
       "      <th>1</th>\n",
       "      <td>AB00002</td>\n",
       "      <td>PM-DKK02</td>\n",
       "      <td>RKS-PM-DKK02</td>\n",
       "      <td>NaN</td>\n",
       "      <td>RKS-PM-DKK02</td>\n",
       "      <td>PM-DKK02</td>\n",
       "      <td>Southern Rockies</td>\n",
       "      <td>NaN</td>\n",
       "      <td>Enkin RJ</td>\n",
       "      <td>1996</td>\n",
       "      <td>...</td>\n",
       "      <td>GSC</td>\n",
       "      <td>A</td>\n",
       "      <td>NaN</td>\n",
       "      <td>NaN</td>\n",
       "      <td>NaN</td>\n",
       "      <td>NaN</td>\n",
       "      <td>NaN</td>\n",
       "      <td>NaN</td>\n",
       "      <td>NaN</td>\n",
       "      <td>NaN</td>\n",
       "    </tr>\n",
       "    <tr>\n",
       "      <th>2</th>\n",
       "      <td>AB00003</td>\n",
       "      <td>PM-DKK04</td>\n",
       "      <td>RKS-PM-DKK04</td>\n",
       "      <td>NaN</td>\n",
       "      <td>RKS-PM-DKK04</td>\n",
       "      <td>PM-DKK04</td>\n",
       "      <td>Southern Rockies</td>\n",
       "      <td>NaN</td>\n",
       "      <td>Enkin RJ</td>\n",
       "      <td>1996</td>\n",
       "      <td>...</td>\n",
       "      <td>GSC</td>\n",
       "      <td>A</td>\n",
       "      <td>25665.688679</td>\n",
       "      <td>Solartron 1260 Impedance Spectrometer</td>\n",
       "      <td>GSC</td>\n",
       "      <td>A</td>\n",
       "      <td>NaN</td>\n",
       "      <td>NaN</td>\n",
       "      <td>NaN</td>\n",
       "      <td>NaN</td>\n",
       "    </tr>\n",
       "    <tr>\n",
       "      <th>3</th>\n",
       "      <td>AB00004</td>\n",
       "      <td>PM-DKK05</td>\n",
       "      <td>RKS-PM-DKK05</td>\n",
       "      <td>NaN</td>\n",
       "      <td>RKS-PM-DKK05</td>\n",
       "      <td>PM-DKK05</td>\n",
       "      <td>Southern Rockies</td>\n",
       "      <td>NaN</td>\n",
       "      <td>Enkin RJ</td>\n",
       "      <td>1996</td>\n",
       "      <td>...</td>\n",
       "      <td>GSC</td>\n",
       "      <td>A</td>\n",
       "      <td>NaN</td>\n",
       "      <td>NaN</td>\n",
       "      <td>NaN</td>\n",
       "      <td>NaN</td>\n",
       "      <td>NaN</td>\n",
       "      <td>NaN</td>\n",
       "      <td>NaN</td>\n",
       "      <td>NaN</td>\n",
       "    </tr>\n",
       "    <tr>\n",
       "      <th>4</th>\n",
       "      <td>AB00005</td>\n",
       "      <td>PM-DKK06</td>\n",
       "      <td>RKS-PM-DKK06</td>\n",
       "      <td>NaN</td>\n",
       "      <td>RKS-PM-DKK06</td>\n",
       "      <td>PM-DKK06</td>\n",
       "      <td>Southern Rockies</td>\n",
       "      <td>NaN</td>\n",
       "      <td>Enkin RJ</td>\n",
       "      <td>1996</td>\n",
       "      <td>...</td>\n",
       "      <td>GSC</td>\n",
       "      <td>A</td>\n",
       "      <td>NaN</td>\n",
       "      <td>NaN</td>\n",
       "      <td>NaN</td>\n",
       "      <td>NaN</td>\n",
       "      <td>NaN</td>\n",
       "      <td>NaN</td>\n",
       "      <td>NaN</td>\n",
       "      <td>NaN</td>\n",
       "    </tr>\n",
       "  </tbody>\n",
       "</table>\n",
       "<p>5 rows × 84 columns</p>\n",
       "</div>"
      ],
      "text/plain": [
       "  0Phys Props LabID Sample Name * Alt Sample Name  SMS Curation Number  \\\n",
       "0           AB00001      PM-DKK01                                  NaN   \n",
       "1           AB00002      PM-DKK02    RKS-PM-DKK02                  NaN   \n",
       "2           AB00003      PM-DKK04    RKS-PM-DKK04                  NaN   \n",
       "3           AB00004      PM-DKK05    RKS-PM-DKK05                  NaN   \n",
       "4           AB00005      PM-DKK06    RKS-PM-DKK06                  NaN   \n",
       "\n",
       "  Previous Mira RPDS ID StationName/Well ID/BoreholeName *     Location area  \\\n",
       "0          RKS-PM-DKK01                           PM-DKK01  Southern Rockies   \n",
       "1          RKS-PM-DKK02                           PM-DKK02  Southern Rockies   \n",
       "2          RKS-PM-DKK04                           PM-DKK04  Southern Rockies   \n",
       "3          RKS-PM-DKK05                           PM-DKK05  Southern Rockies   \n",
       "4          RKS-PM-DKK06                           PM-DKK06  Southern Rockies   \n",
       "\n",
       "   Location Description Mapped By *  Date Mapped (yyyy/mm/dd) *   ...  \\\n",
       "0                   NaN    Enkin RJ                         1996  ...   \n",
       "1                   NaN    Enkin RJ                         1996  ...   \n",
       "2                   NaN    Enkin RJ                         1996  ...   \n",
       "3                   NaN    Enkin RJ                         1996  ...   \n",
       "4                   NaN    Enkin RJ                         1996  ...   \n",
       "\n",
       "  KN Sample Lab KN Sample Quality RES Sample Value [Ohm.m]  \\\n",
       "0           GSC                 A              5619.194715   \n",
       "1           GSC                 A                      NaN   \n",
       "2           GSC                 A             25665.688679   \n",
       "3           GSC                 A                      NaN   \n",
       "4           GSC                 A                      NaN   \n",
       "\n",
       "                  RES Sample Methodology RES Sample Lab  RES Sample Quality  \\\n",
       "0  Solartron 1260 Impedance Spectrometer            GSC                   A   \n",
       "1                                    NaN            NaN                 NaN   \n",
       "2  Solartron 1260 Impedance Spectrometer            GSC                   A   \n",
       "3                                    NaN            NaN                 NaN   \n",
       "4                                    NaN            NaN                 NaN   \n",
       "\n",
       "   CHG Sample Value [ms]  CHG Sample Methodology  CHG Sample Lab  \\\n",
       "0                    NaN                     NaN             NaN   \n",
       "1                    NaN                     NaN             NaN   \n",
       "2                    NaN                     NaN             NaN   \n",
       "3                    NaN                     NaN             NaN   \n",
       "4                    NaN                     NaN             NaN   \n",
       "\n",
       "   CHG Sample Quality  \n",
       "0                 NaN  \n",
       "1                 NaN  \n",
       "2                 NaN  \n",
       "3                 NaN  \n",
       "4                 NaN  \n",
       "\n",
       "[5 rows x 84 columns]"
      ]
     },
     "execution_count": 5,
     "metadata": {},
     "output_type": "execute_result"
    }
   ],
   "source": [
    "crppdData.head()"
   ]
  },
  {
   "cell_type": "markdown",
   "id": "cee998a9",
   "metadata": {},
   "source": [
    "### What about checking a certain column within the DataFrame?\n",
    "#### [DataFrame]['[Column]']"
   ]
  },
  {
   "cell_type": "code",
   "execution_count": 6,
   "id": "f002a9de",
   "metadata": {},
   "outputs": [
    {
     "data": {
      "text/plain": [
       "0      carbonate rock\n",
       "1      carbonate rock\n",
       "2        conglomerate\n",
       "3           sandstone\n",
       "4        conglomerate\n",
       "            ...      \n",
       "995         quartzite\n",
       "996         monzonite\n",
       "997         monzonite\n",
       "998            schist\n",
       "999            schist\n",
       "Name: Lithology*, Length: 1000, dtype: object"
      ]
     },
     "execution_count": 6,
     "metadata": {},
     "output_type": "execute_result"
    }
   ],
   "source": [
    "crppdData['Lithology*']"
   ]
  },
  {
   "cell_type": "markdown",
   "id": "cdfa87f1",
   "metadata": {},
   "source": [
    "## Plotting with Matplotlib.pyplot\n",
    "### Setting up Variables to Graph"
   ]
  },
  {
   "cell_type": "markdown",
   "id": "100b4755",
   "metadata": {},
   "source": [
    "Example: plotting Density vs Density Rank (similar to Figure 2 from \"The Henkel Petrophysical Plot: Mineralogy and Lithology From Physical Properties)"
   ]
  },
  {
   "cell_type": "code",
   "execution_count": 15,
   "id": "c925b53d",
   "metadata": {},
   "outputs": [],
   "source": [
    "x = crppdData['SAT BULK DEN Sample Value [g/cm3]'].rank(ascending=True)"
   ]
  },
  {
   "cell_type": "code",
   "execution_count": 16,
   "id": "1518b6cb",
   "metadata": {},
   "outputs": [],
   "source": [
    "y = crppdData['SAT BULK DEN Sample Value [g/cm3]']"
   ]
  },
  {
   "cell_type": "markdown",
   "id": "25d18ef3",
   "metadata": {},
   "source": [
    "### Creating a Plot"
   ]
  },
  {
   "cell_type": "code",
   "execution_count": 24,
   "id": "66e4f419",
   "metadata": {
    "scrolled": true
   },
   "outputs": [
    {
     "data": {
      "image/png": "[encoded data removed]",
      "text/plain": [
       "<Figure size 432x288 with 1 Axes>"
      ]
     },
     "metadata": {
      "needs_background": "light"
     },
     "output_type": "display_data"
    }
   ],
   "source": [
    "fig = plt.plot(x,y)\n",
    "plt.show()"
   ]
  },
  {
   "cell_type": "markdown",
   "id": "a705813b",
   "metadata": {},
   "source": [
    "### *Well... that's not what we were hoping for. So what went wrong?*\n",
    "\n",
    "What did the variables look like?"
   ]
  },
  {
   "cell_type": "code",
   "execution_count": 18,
   "id": "0e69db96",
   "metadata": {},
   "outputs": [
    {
     "name": "stdout",
     "output_type": "stream",
     "text": [
      "0       62.0\n",
      "1       75.0\n",
      "2       31.0\n",
      "3        NaN\n",
      "4        NaN\n",
      "       ...  \n",
      "995    218.0\n",
      "996     64.0\n",
      "997      NaN\n",
      "998    219.0\n",
      "999    102.0\n",
      "Name: SAT BULK DEN Sample Value [g/cm3], Length: 1000, dtype: float64 0      2.663609\n",
      "1      2.689822\n",
      "2      2.628021\n",
      "3           NaN\n",
      "4           NaN\n",
      "         ...   \n",
      "995    2.918759\n",
      "996    2.666188\n",
      "997         NaN\n",
      "998    2.919564\n",
      "999    2.709166\n",
      "Name: SAT BULK DEN Sample Value [g/cm3], Length: 1000, dtype: float64\n"
     ]
    }
   ],
   "source": [
    "print(x,y)"
   ]
  },
  {
   "cell_type": "markdown",
   "id": "c2ebc2a3",
   "metadata": {},
   "source": [
    "### Obviously, plotting (210,2.69), (197,2.62) and so forth will create an odd graph. \n",
    "### Let's try that again with ordered values\n",
    "\n",
    "[DataFrame].sort_values() where sort_values is a function in pandas"
   ]
  },
  {
   "cell_type": "code",
   "execution_count": 49,
   "id": "b8387537",
   "metadata": {},
   "outputs": [],
   "source": [
    "x = x.sort_values()\n",
    "y = y.sort_values()"
   ]
  },
  {
   "cell_type": "code",
   "execution_count": 54,
   "id": "943e06d6",
   "metadata": {},
   "outputs": [
    {
     "data": {
      "image/png": "[encoded data removed]",
      "text/plain": [
       "<Figure size 432x288 with 1 Axes>"
      ]
     },
     "metadata": {
      "needs_background": "light"
     },
     "output_type": "display_data"
    }
   ],
   "source": [
    "fig = plt.plot(x,y)\n",
    "plt.show()"
   ]
  },
  {
   "cell_type": "markdown",
   "id": "e84172b7",
   "metadata": {},
   "source": [
    "### Better. Now how about some labels and a bit of *style*\n",
    "\n",
    "- plt.plot\n",
    "    - 'ok' - where 'o' is for the marker style and 'k' is for the marker colour"
   ]
  },
  {
   "cell_type": "markdown",
   "id": "cf7d42d8",
   "metadata": {},
   "source": [
    "#### Some Marker, Line, and Colour References\n",
    "| Marker | Description | | Line | Description | Colour | Description |\n",
    "| --- | --- | --- | --- | ---| --- | --- |\n",
    "| 'o' | Circle | | '-'| Solid line| 'r | Red|\n",
    "| '*' | Star | | ':'| Dotted line| 'g' | Green |\n",
    "| '.' | Point | |'--' | Dashed line | 'b' | Blue\n",
    "| ',' | Pixel | | '-.| Dashed/dotted line| 'c' | Cyan |\n",
    "| 'x' | X | | | | 'm' | Magenta |\n",
    "| 'X' | X (filled) | | | | 'y' | Yellow |\n",
    "| '+' | Plus | | | | 'k' | Black |\n",
    "| 'P' | Plus (filled)| | | | 'w' | White |\n",
    "| 's' | Square | | | | ||\n",
    "| 'D' | Diamond | | | |||\n",
    "| 'd' | Diamond (thin) | | | |||\n",
    "| '^' | Triangle (up) | | | |||\n",
    "| 'v' | Triangle (down) | | | |||\n"
   ]
  },
  {
   "cell_type": "code",
   "execution_count": 95,
   "id": "13f1785a",
   "metadata": {},
   "outputs": [
    {
     "data": {
      "image/png": "[encoded data removed]",
      "text/plain": [
       "<Figure size 360x504 with 1 Axes>"
      ]
     },
     "metadata": {
      "needs_background": "light"
     },
     "output_type": "display_data"
    }
   ],
   "source": [
    "fig = plt.figure(figsize=(5,7))\n",
    "plt.plot(x,y,'ok')\n",
    "\n",
    "plt.title('Ranked Densities from the Canadian Rock Physical Property Database \\n (first edition, 2018)')\n",
    "plt.xlabel(\"Saturated Bulk Density Rank\")\n",
    "plt.ylabel(\"Density [g/cm$^3$]\")\n",
    "\n",
    "# use _{[value]}$ to write in subscript and $^[value]$ to write in superscript\n",
    "\n",
    "plt.show()"
   ]
  },
  {
   "cell_type": "markdown",
   "id": "1af6ef70",
   "metadata": {},
   "source": [
    "### Setting limits on the x and y axes"
   ]
  },
  {
   "cell_type": "code",
   "execution_count": 93,
   "id": "063970e2",
   "metadata": {},
   "outputs": [
    {
     "data": {
      "image/png": "[encoded data removed]",
      "text/plain": [
       "<Figure size 360x360 with 1 Axes>"
      ]
     },
     "metadata": {
      "needs_background": "light"
     },
     "output_type": "display_data"
    }
   ],
   "source": [
    "fig = plt.figure(figsize=(5,5)) #change in figsize\n",
    "plt.plot(x,y,'ok')\n",
    "\n",
    "plt.title('Ranked Densities from the Canadian Rock Physical Property Database \\n (first edition, 2018)')\n",
    "plt.xlabel(\"Saturated Bulk Density Rank\")\n",
    "plt.ylabel(\"Density [g/cm$^3$]\")\n",
    "\n",
    "plt.ylim(2.4,3.4)\n",
    "\n",
    "plt.show()"
   ]
  },
  {
   "cell_type": "code",
   "execution_count": null,
   "id": "de2696f9",
   "metadata": {},
   "outputs": [],
   "source": []
  }
 ],
 "metadata": {
  "kernelspec": {
   "display_name": "Python 3 (ipykernel)",
   "language": "python",
   "name": "python3"
  },
  "language_info": {
   "codemirror_mode": {
    "name": "ipython",
    "version": 3
   },
   "file_extension": ".py",
   "mimetype": "text/x-python",
   "name": "python",
   "nbconvert_exporter": "python",
   "pygments_lexer": "ipython3",
   "version": "3.9.7"
  }
 },
 "nbformat": 4,
 "nbformat_minor": 5
}
